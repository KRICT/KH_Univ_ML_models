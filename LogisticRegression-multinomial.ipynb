{
 "cells": [
  {
   "cell_type": "code",
   "execution_count": 1,
   "id": "6209ef1d-780c-4217-b790-fb3d60964f89",
   "metadata": {},
   "outputs": [],
   "source": [
    "import os\n",
    "import pandas as pd\n",
    "import numpy as np"
   ]
  },
  {
   "cell_type": "code",
   "execution_count": 2,
   "id": "3e09c210-7364-4779-90be-2fe08a058bdb",
   "metadata": {},
   "outputs": [
    {
     "name": "stdout",
     "output_type": "stream",
     "text": [
      "/home/ymkang/Documents/kh.univ\n"
     ]
    }
   ],
   "source": [
    "os.chdir('/home/ymkang/Documents/kh.univ')\n",
    "print(os.getcwd())"
   ]
  },
  {
   "cell_type": "code",
   "execution_count": 3,
   "id": "235855f7-87d0-4910-b69e-de7a8d614cee",
   "metadata": {},
   "outputs": [],
   "source": [
    "theTrainDataFile = 'x_train_all.csv'\n",
    "theValidDataFile = 'y_train_all_for_logistic.csv'"
   ]
  },
  {
   "cell_type": "code",
   "execution_count": 4,
   "id": "d512604b-1047-4637-b53c-69a15b7706e8",
   "metadata": {},
   "outputs": [],
   "source": [
    "theTrainDataFrame = pd.read_csv(theTrainDataFile)"
   ]
  },
  {
   "cell_type": "code",
   "execution_count": 7,
   "id": "4908cb37-cd43-4881-9c67-8ec4c9ad41ad",
   "metadata": {},
   "outputs": [],
   "source": [
    "theValidDataFrame = pd.read_csv(theValidDataFile)"
   ]
  },
  {
   "cell_type": "code",
   "execution_count": 8,
   "id": "9fab47a8-c06d-446b-9bdb-2bbcb564836b",
   "metadata": {},
   "outputs": [],
   "source": [
    "x = theTrainDataFrame.to_numpy()"
   ]
  },
  {
   "cell_type": "code",
   "execution_count": 9,
   "id": "0e5e7bf4-fe8b-4284-8b24-a9ac032ca0a8",
   "metadata": {},
   "outputs": [],
   "source": [
    "y = theValidDataFrame.to_numpy()"
   ]
  },
  {
   "cell_type": "code",
   "execution_count": 10,
   "id": "a854f97f-ff15-4d8a-8581-0cdb15b1d486",
   "metadata": {},
   "outputs": [
    {
     "data": {
      "text/plain": [
       "array([0, 0, 0, ..., 0, 0, 0])"
      ]
     },
     "execution_count": 10,
     "metadata": {},
     "output_type": "execute_result"
    }
   ],
   "source": [
    "y_t = np.transpose(y)[0]\n",
    "y_t"
   ]
  },
  {
   "cell_type": "code",
   "execution_count": 11,
   "id": "4069b631-57e9-4e9b-8223-858145c61564",
   "metadata": {},
   "outputs": [],
   "source": [
    "from sklearn.model_selection import train_test_split\n"
   ]
  },
  {
   "cell_type": "code",
   "execution_count": 12,
   "id": "dffcd5aa-5c75-44ce-bfb8-f0614a230b88",
   "metadata": {},
   "outputs": [],
   "source": [
    "theShuffle = True\n",
    "X_train, X_test, y_train, y_test = train_test_split(x, y_t, \n",
    "                                                    test_size=0.4, \n",
    "                                                    shuffle=theShuffle, \n",
    "                                                    random_state=1004)"
   ]
  },
  {
   "cell_type": "code",
   "execution_count": 13,
   "id": "55e85d7a-2b06-47d2-bedf-e1d2db886e9b",
   "metadata": {},
   "outputs": [
    {
     "data": {
      "text/plain": [
       "(13152, 10642)"
      ]
     },
     "execution_count": 13,
     "metadata": {},
     "output_type": "execute_result"
    }
   ],
   "source": [
    "X_train.shape"
   ]
  },
  {
   "cell_type": "code",
   "execution_count": 14,
   "id": "fe33ada3-5b3f-42e0-843b-4b01dfd054bc",
   "metadata": {},
   "outputs": [
    {
     "data": {
      "text/plain": [
       "(13152,)"
      ]
     },
     "execution_count": 14,
     "metadata": {},
     "output_type": "execute_result"
    }
   ],
   "source": [
    "y_train.shape"
   ]
  },
  {
   "cell_type": "code",
   "execution_count": 15,
   "id": "405ce2c9-20b0-47ed-9d58-d10f59445d2b",
   "metadata": {},
   "outputs": [
    {
     "data": {
      "text/plain": [
       "(8768, 10642)"
      ]
     },
     "execution_count": 15,
     "metadata": {},
     "output_type": "execute_result"
    }
   ],
   "source": [
    "X_test.shape"
   ]
  },
  {
   "cell_type": "code",
   "execution_count": 16,
   "id": "ce8fbf17-ab67-4971-a5e0-8c2b4e098164",
   "metadata": {},
   "outputs": [
    {
     "data": {
      "text/plain": [
       "(8768,)"
      ]
     },
     "execution_count": 16,
     "metadata": {},
     "output_type": "execute_result"
    }
   ],
   "source": [
    "y_test.shape"
   ]
  },
  {
   "cell_type": "code",
   "execution_count": 17,
   "id": "a375842c-fbc4-4d1f-a773-f1fef2a07f3d",
   "metadata": {},
   "outputs": [],
   "source": [
    "from sklearn.preprocessing import StandardScaler\n",
    "theScaler = StandardScaler()"
   ]
  },
  {
   "cell_type": "code",
   "execution_count": 18,
   "id": "98b47e15-bad6-4e4c-993c-f6a32a9a048d",
   "metadata": {},
   "outputs": [],
   "source": [
    "scaled_x_train = theScaler.fit_transform(X_train)\n",
    "scaled_x_test = theScaler.transform(X_test)"
   ]
  },
  {
   "cell_type": "code",
   "execution_count": 19,
   "id": "95346c03-9e03-452d-a4e7-c6e18021a7fb",
   "metadata": {},
   "outputs": [
    {
     "data": {
      "text/plain": [
       "(13152, 10642)"
      ]
     },
     "execution_count": 19,
     "metadata": {},
     "output_type": "execute_result"
    }
   ],
   "source": [
    "scaled_x_train.shape"
   ]
  },
  {
   "cell_type": "code",
   "execution_count": 20,
   "id": "a900fe03-1566-4892-bfc6-059cfa5173f3",
   "metadata": {},
   "outputs": [
    {
     "data": {
      "text/plain": [
       "-2.3454713360929187"
      ]
     },
     "execution_count": 20,
     "metadata": {},
     "output_type": "execute_result"
    }
   ],
   "source": [
    "scaled_x_train.min()"
   ]
  },
  {
   "cell_type": "code",
   "execution_count": 21,
   "id": "7dea223a-ebac-409c-8009-22bc82dc0534",
   "metadata": {},
   "outputs": [
    {
     "data": {
      "text/plain": [
       "114.67780953616024"
      ]
     },
     "execution_count": 21,
     "metadata": {},
     "output_type": "execute_result"
    }
   ],
   "source": [
    "scaled_x_train.max()"
   ]
  },
  {
   "cell_type": "code",
   "execution_count": 22,
   "id": "22a2b060-989b-47d8-9890-8a291b4467b5",
   "metadata": {},
   "outputs": [
    {
     "data": {
      "text/plain": [
       "(8768, 10642)"
      ]
     },
     "execution_count": 22,
     "metadata": {},
     "output_type": "execute_result"
    }
   ],
   "source": [
    "scaled_x_test.shape"
   ]
  },
  {
   "cell_type": "code",
   "execution_count": 23,
   "id": "4a5dea7a-17af-46d6-b3f5-4de3a400cc70",
   "metadata": {},
   "outputs": [
    {
     "data": {
      "text/plain": [
       "(13152,)"
      ]
     },
     "execution_count": 23,
     "metadata": {},
     "output_type": "execute_result"
    }
   ],
   "source": [
    "y_train.shape"
   ]
  },
  {
   "cell_type": "code",
   "execution_count": 24,
   "id": "c3acf875-462f-465a-bcc4-8e4d32297f55",
   "metadata": {},
   "outputs": [
    {
     "data": {
      "text/plain": [
       "(8768,)"
      ]
     },
     "execution_count": 24,
     "metadata": {},
     "output_type": "execute_result"
    }
   ],
   "source": [
    "y_test.shape"
   ]
  },
  {
   "cell_type": "code",
   "execution_count": 25,
   "id": "29b064b2-6bb4-4412-895b-cc85518d51c0",
   "metadata": {},
   "outputs": [],
   "source": [
    "from sklearn.linear_model import LogisticRegression"
   ]
  },
  {
   "cell_type": "code",
   "execution_count": 26,
   "id": "b6a08c78-e17a-48a3-acb4-c360cc0b422b",
   "metadata": {},
   "outputs": [],
   "source": [
    "theLogisticModel = LogisticRegression(C=1, \n",
    "                           class_weight='balanced', \n",
    "                           random_state=1, \n",
    "                           multi_class='multinomial', \n",
    "                           n_jobs=-1, \n",
    "                           solver='lbfgs')"
   ]
  },
  {
   "cell_type": "code",
   "execution_count": 27,
   "id": "34844b68-f16b-4fa7-891c-754224a53c40",
   "metadata": {},
   "outputs": [
    {
     "data": {
      "text/html": [
       "<style>#sk-container-id-1 {color: black;background-color: white;}#sk-container-id-1 pre{padding: 0;}#sk-container-id-1 div.sk-toggleable {background-color: white;}#sk-container-id-1 label.sk-toggleable__label {cursor: pointer;display: block;width: 100%;margin-bottom: 0;padding: 0.3em;box-sizing: border-box;text-align: center;}#sk-container-id-1 label.sk-toggleable__label-arrow:before {content: \"▸\";float: left;margin-right: 0.25em;color: #696969;}#sk-container-id-1 label.sk-toggleable__label-arrow:hover:before {color: black;}#sk-container-id-1 div.sk-estimator:hover label.sk-toggleable__label-arrow:before {color: black;}#sk-container-id-1 div.sk-toggleable__content {max-height: 0;max-width: 0;overflow: hidden;text-align: left;background-color: #f0f8ff;}#sk-container-id-1 div.sk-toggleable__content pre {margin: 0.2em;color: black;border-radius: 0.25em;background-color: #f0f8ff;}#sk-container-id-1 input.sk-toggleable__control:checked~div.sk-toggleable__content {max-height: 200px;max-width: 100%;overflow: auto;}#sk-container-id-1 input.sk-toggleable__control:checked~label.sk-toggleable__label-arrow:before {content: \"▾\";}#sk-container-id-1 div.sk-estimator input.sk-toggleable__control:checked~label.sk-toggleable__label {background-color: #d4ebff;}#sk-container-id-1 div.sk-label input.sk-toggleable__control:checked~label.sk-toggleable__label {background-color: #d4ebff;}#sk-container-id-1 input.sk-hidden--visually {border: 0;clip: rect(1px 1px 1px 1px);clip: rect(1px, 1px, 1px, 1px);height: 1px;margin: -1px;overflow: hidden;padding: 0;position: absolute;width: 1px;}#sk-container-id-1 div.sk-estimator {font-family: monospace;background-color: #f0f8ff;border: 1px dotted black;border-radius: 0.25em;box-sizing: border-box;margin-bottom: 0.5em;}#sk-container-id-1 div.sk-estimator:hover {background-color: #d4ebff;}#sk-container-id-1 div.sk-parallel-item::after {content: \"\";width: 100%;border-bottom: 1px solid gray;flex-grow: 1;}#sk-container-id-1 div.sk-label:hover label.sk-toggleable__label {background-color: #d4ebff;}#sk-container-id-1 div.sk-serial::before {content: \"\";position: absolute;border-left: 1px solid gray;box-sizing: border-box;top: 0;bottom: 0;left: 50%;z-index: 0;}#sk-container-id-1 div.sk-serial {display: flex;flex-direction: column;align-items: center;background-color: white;padding-right: 0.2em;padding-left: 0.2em;position: relative;}#sk-container-id-1 div.sk-item {position: relative;z-index: 1;}#sk-container-id-1 div.sk-parallel {display: flex;align-items: stretch;justify-content: center;background-color: white;position: relative;}#sk-container-id-1 div.sk-item::before, #sk-container-id-1 div.sk-parallel-item::before {content: \"\";position: absolute;border-left: 1px solid gray;box-sizing: border-box;top: 0;bottom: 0;left: 50%;z-index: -1;}#sk-container-id-1 div.sk-parallel-item {display: flex;flex-direction: column;z-index: 1;position: relative;background-color: white;}#sk-container-id-1 div.sk-parallel-item:first-child::after {align-self: flex-end;width: 50%;}#sk-container-id-1 div.sk-parallel-item:last-child::after {align-self: flex-start;width: 50%;}#sk-container-id-1 div.sk-parallel-item:only-child::after {width: 0;}#sk-container-id-1 div.sk-dashed-wrapped {border: 1px dashed gray;margin: 0 0.4em 0.5em 0.4em;box-sizing: border-box;padding-bottom: 0.4em;background-color: white;}#sk-container-id-1 div.sk-label label {font-family: monospace;font-weight: bold;display: inline-block;line-height: 1.2em;}#sk-container-id-1 div.sk-label-container {text-align: center;}#sk-container-id-1 div.sk-container {/* jupyter's `normalize.less` sets `[hidden] { display: none; }` but bootstrap.min.css set `[hidden] { display: none !important; }` so we also need the `!important` here to be able to override the default hidden behavior on the sphinx rendered scikit-learn.org. See: https://github.com/scikit-learn/scikit-learn/issues/21755 */display: inline-block !important;position: relative;}#sk-container-id-1 div.sk-text-repr-fallback {display: none;}</style><div id=\"sk-container-id-1\" class=\"sk-top-container\"><div class=\"sk-text-repr-fallback\"><pre>LogisticRegression(C=1, class_weight=&#x27;balanced&#x27;, multi_class=&#x27;multinomial&#x27;,\n",
       "                   n_jobs=-1, random_state=1)</pre><b>In a Jupyter environment, please rerun this cell to show the HTML representation or trust the notebook. <br />On GitHub, the HTML representation is unable to render, please try loading this page with nbviewer.org.</b></div><div class=\"sk-container\" hidden><div class=\"sk-item\"><div class=\"sk-estimator sk-toggleable\"><input class=\"sk-toggleable__control sk-hidden--visually\" id=\"sk-estimator-id-1\" type=\"checkbox\" checked><label for=\"sk-estimator-id-1\" class=\"sk-toggleable__label sk-toggleable__label-arrow\">LogisticRegression</label><div class=\"sk-toggleable__content\"><pre>LogisticRegression(C=1, class_weight=&#x27;balanced&#x27;, multi_class=&#x27;multinomial&#x27;,\n",
       "                   n_jobs=-1, random_state=1)</pre></div></div></div></div></div>"
      ],
      "text/plain": [
       "LogisticRegression(C=1, class_weight='balanced', multi_class='multinomial',\n",
       "                   n_jobs=-1, random_state=1)"
      ]
     },
     "execution_count": 27,
     "metadata": {},
     "output_type": "execute_result"
    }
   ],
   "source": [
    "theLogisticModel.fit(scaled_x_train, y_train)"
   ]
  },
  {
   "cell_type": "code",
   "execution_count": 28,
   "id": "e8c0f6c9-f501-4b8d-86aa-0e4b86a624b2",
   "metadata": {},
   "outputs": [
    {
     "name": "stdout",
     "output_type": "stream",
     "text": [
      "예측 값:  [0 1 0 ... 1 1 0]\n"
     ]
    }
   ],
   "source": [
    "print('예측 값: ', theLogisticModel.predict(scaled_x_train))\n"
   ]
  },
  {
   "cell_type": "code",
   "execution_count": 29,
   "id": "c520ea96-456c-4927-a10f-2ab45e38f953",
   "metadata": {},
   "outputs": [
    {
     "name": "stdout",
     "output_type": "stream",
     "text": [
      "예측확률:  [[9.83783902e-01 1.57179379e-02 1.08525277e-04 ... 3.99785139e-05\n",
      "  1.40677544e-04 1.96401897e-04]\n",
      " [2.09081955e-01 7.90753557e-01 2.39729647e-05 ... 2.25734326e-06\n",
      "  9.60022231e-05 6.67311495e-06]\n",
      " [9.97816618e-01 1.91864255e-03 2.89500110e-05 ... 8.06209456e-06\n",
      "  3.44839955e-05 7.45666615e-06]\n",
      " ...\n",
      " [1.93203191e-01 6.48052117e-01 5.51622705e-05 ... 4.53677007e-05\n",
      "  1.67589218e-04 1.66195690e-05]\n",
      " [2.58651063e-01 7.34595103e-01 5.03700622e-05 ... 1.34262089e-05\n",
      "  2.17914030e-04 1.32298966e-05]\n",
      " [9.84314421e-01 1.37206345e-02 3.86914260e-05 ... 3.54783477e-05\n",
      "  7.15723553e-05 1.32305526e-05]]\n"
     ]
    }
   ],
   "source": [
    "print('예측확률: ', theLogisticModel.predict_proba(scaled_x_train))\n"
   ]
  },
  {
   "cell_type": "code",
   "execution_count": 30,
   "id": "0d424704-dadf-4ffa-9592-a23e62674752",
   "metadata": {},
   "outputs": [],
   "source": [
    "from sklearn.metrics import classification_report\n"
   ]
  },
  {
   "cell_type": "code",
   "execution_count": 31,
   "id": "487474dd-5246-4d4d-8670-67b0d5e38984",
   "metadata": {},
   "outputs": [],
   "source": [
    "pred_train = theLogisticModel.predict(scaled_x_train)\n",
    "pred_test = theLogisticModel.predict(scaled_x_test)"
   ]
  },
  {
   "cell_type": "code",
   "execution_count": 32,
   "id": "9b6c2446-188d-4085-8e42-9440be9ea149",
   "metadata": {},
   "outputs": [
    {
     "name": "stdout",
     "output_type": "stream",
     "text": [
      "classification_report - 학습데이터\n",
      "              precision    recall  f1-score   support\n",
      "\n",
      "           0       1.00      0.79      0.88     11995\n",
      "           1       0.27      0.96      0.43       893\n",
      "           2       0.67      1.00      0.80         2\n",
      "           3       0.10      0.97      0.18        34\n",
      "           4       0.97      0.98      0.98       185\n",
      "           5       0.84      1.00      0.91        41\n",
      "           6       1.00      1.00      1.00         2\n",
      "\n",
      "    accuracy                           0.80     13152\n",
      "   macro avg       0.69      0.96      0.74     13152\n",
      "weighted avg       0.94      0.80      0.85     13152\n",
      "\n"
     ]
    }
   ],
   "source": [
    "print('classification_report - 학습데이터')\n",
    "print(classification_report(y_train, pred_train))"
   ]
  },
  {
   "cell_type": "code",
   "execution_count": 33,
   "id": "69a8a0da-eed9-4fe2-8a00-ddbcd41de8ab",
   "metadata": {},
   "outputs": [
    {
     "name": "stdout",
     "output_type": "stream",
     "text": [
      "classification_report - 테스트데이터\n",
      "              precision    recall  f1-score   support\n",
      "\n",
      "           0       0.96      0.75      0.84      8016\n",
      "           1       0.16      0.58      0.26       591\n",
      "           2       0.00      0.00      0.00         3\n",
      "           3       0.01      0.11      0.02        28\n",
      "           4       0.71      0.76      0.74       106\n",
      "           5       0.03      0.05      0.04        22\n",
      "           6       0.00      0.00      0.00         2\n",
      "\n",
      "    accuracy                           0.73      8768\n",
      "   macro avg       0.27      0.32      0.27      8768\n",
      "weighted avg       0.90      0.73      0.80      8768\n",
      "\n"
     ]
    },
    {
     "name": "stderr",
     "output_type": "stream",
     "text": [
      "/usr/local/lib/python3.8/dist-packages/sklearn/linear_model/_logistic.py:444: ConvergenceWarning: lbfgs failed to converge (status=1):\n",
      "STOP: TOTAL NO. of ITERATIONS REACHED LIMIT.\n",
      "\n",
      "Increase the number of iterations (max_iter) or scale the data as shown in:\n",
      "    https://scikit-learn.org/stable/modules/preprocessing.html\n",
      "Please also refer to the documentation for alternative solver options:\n",
      "    https://scikit-learn.org/stable/modules/linear_model.html#logistic-regression\n",
      "  n_iter_i = _check_optimize_result(\n"
     ]
    }
   ],
   "source": [
    "print('classification_report - 테스트데이터')\n",
    "print(classification_report(y_test, pred_test))"
   ]
  }
 ],
 "metadata": {
  "kernelspec": {
   "display_name": "Python 3 (ipykernel)",
   "language": "python",
   "name": "python3"
  },
  "language_info": {
   "codemirror_mode": {
    "name": "ipython",
    "version": 3
   },
   "file_extension": ".py",
   "mimetype": "text/x-python",
   "name": "python",
   "nbconvert_exporter": "python",
   "pygments_lexer": "ipython3",
   "version": "3.8.10"
  }
 },
 "nbformat": 4,
 "nbformat_minor": 5
}
