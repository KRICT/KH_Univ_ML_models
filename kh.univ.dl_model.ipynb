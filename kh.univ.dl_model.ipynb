{
 "cells": [
  {
   "cell_type": "code",
   "execution_count": 1,
   "id": "de5c0c06-32dd-4e11-9c61-fda6793a10c7",
   "metadata": {},
   "outputs": [],
   "source": [
    "import os\n",
    "import glob\n",
    "import pandas as pd\n",
    "import numpy as np\n",
    "import tensorflow as tf"
   ]
  },
  {
   "cell_type": "code",
   "execution_count": null,
   "id": "57e88898-054a-437e-93a4-1a5fc0256bdb",
   "metadata": {},
   "outputs": [],
   "source": [
    "tf.test.is_gpu_available()"
   ]
  },
  {
   "cell_type": "code",
   "execution_count": 2,
   "id": "a5a950ac-a61d-4959-a0b4-7c16beae8d26",
   "metadata": {},
   "outputs": [
    {
     "name": "stdout",
     "output_type": "stream",
     "text": [
      "/home/ymkang/Documents/kh.univ\n"
     ]
    }
   ],
   "source": [
    "os.chdir('/home/ymkang/Documents/kh.univ')\n",
    "print(os.getcwd())"
   ]
  },
  {
   "cell_type": "code",
   "execution_count": 3,
   "id": "447da06d-ac92-48d8-a1d9-7a79a52e39ce",
   "metadata": {},
   "outputs": [],
   "source": [
    "theTrainDataFile = 'x_train_all.csv'\n",
    "theValidDataFile = 'y_train_all.csv'"
   ]
  },
  {
   "cell_type": "code",
   "execution_count": 4,
   "id": "c931a1d9-3c2e-4ed7-b3be-8ff2cca4e997",
   "metadata": {},
   "outputs": [],
   "source": [
    "theTrainDataFrame = pd.read_csv(theTrainDataFile)"
   ]
  },
  {
   "cell_type": "code",
   "execution_count": 5,
   "id": "16c4cf52-2136-41bd-a87e-ccc6365e335c",
   "metadata": {},
   "outputs": [],
   "source": [
    "theValidDataFrame = pd.read_csv(theValidDataFile)"
   ]
  },
  {
   "cell_type": "code",
   "execution_count": 6,
   "id": "dcab0e1a-3d63-45fe-bb93-ba73d7ac97c3",
   "metadata": {},
   "outputs": [
    {
     "data": {
      "text/html": [
       "<div>\n",
       "<style scoped>\n",
       "    .dataframe tbody tr th:only-of-type {\n",
       "        vertical-align: middle;\n",
       "    }\n",
       "\n",
       "    .dataframe tbody tr th {\n",
       "        vertical-align: top;\n",
       "    }\n",
       "\n",
       "    .dataframe thead th {\n",
       "        text-align: right;\n",
       "    }\n",
       "</style>\n",
       "<table border=\"1\" class=\"dataframe\">\n",
       "  <thead>\n",
       "    <tr style=\"text-align: right;\">\n",
       "      <th></th>\n",
       "      <th>L4_C342</th>\n",
       "      <th>L4_S0009</th>\n",
       "      <th>L4_A009</th>\n",
       "      <th>L4_A020</th>\n",
       "      <th>L4_A029</th>\n",
       "      <th>L4_A039</th>\n",
       "      <th>L4_A043</th>\n",
       "      <th>L4_A045</th>\n",
       "      <th>L4_A047</th>\n",
       "      <th>L4_A048</th>\n",
       "      <th>...</th>\n",
       "      <th>L6_2_TBA04_count</th>\n",
       "      <th>L6_2_TBD22_count</th>\n",
       "      <th>L6_2_TBD23_count</th>\n",
       "      <th>L6_2_TBD24_count</th>\n",
       "      <th>L6_2_TBE24_count</th>\n",
       "      <th>L6_2_TBH23_count</th>\n",
       "      <th>L6_2_TCM01_count</th>\n",
       "      <th>L6_2_TFF01_count</th>\n",
       "      <th>L6_2_TSA02_count</th>\n",
       "      <th>L6_2_TTA01_count</th>\n",
       "    </tr>\n",
       "  </thead>\n",
       "  <tbody>\n",
       "    <tr>\n",
       "      <th>0</th>\n",
       "      <td>0</td>\n",
       "      <td>0</td>\n",
       "      <td>0</td>\n",
       "      <td>0</td>\n",
       "      <td>0</td>\n",
       "      <td>0</td>\n",
       "      <td>0</td>\n",
       "      <td>0</td>\n",
       "      <td>0</td>\n",
       "      <td>0</td>\n",
       "      <td>...</td>\n",
       "      <td>0</td>\n",
       "      <td>0</td>\n",
       "      <td>0</td>\n",
       "      <td>0</td>\n",
       "      <td>0</td>\n",
       "      <td>0</td>\n",
       "      <td>0</td>\n",
       "      <td>0</td>\n",
       "      <td>0</td>\n",
       "      <td>0</td>\n",
       "    </tr>\n",
       "    <tr>\n",
       "      <th>1</th>\n",
       "      <td>0</td>\n",
       "      <td>0</td>\n",
       "      <td>0</td>\n",
       "      <td>0</td>\n",
       "      <td>0</td>\n",
       "      <td>0</td>\n",
       "      <td>0</td>\n",
       "      <td>0</td>\n",
       "      <td>0</td>\n",
       "      <td>0</td>\n",
       "      <td>...</td>\n",
       "      <td>0</td>\n",
       "      <td>0</td>\n",
       "      <td>0</td>\n",
       "      <td>0</td>\n",
       "      <td>0</td>\n",
       "      <td>0</td>\n",
       "      <td>0</td>\n",
       "      <td>0</td>\n",
       "      <td>0</td>\n",
       "      <td>0</td>\n",
       "    </tr>\n",
       "    <tr>\n",
       "      <th>2</th>\n",
       "      <td>0</td>\n",
       "      <td>0</td>\n",
       "      <td>0</td>\n",
       "      <td>0</td>\n",
       "      <td>0</td>\n",
       "      <td>0</td>\n",
       "      <td>0</td>\n",
       "      <td>0</td>\n",
       "      <td>0</td>\n",
       "      <td>0</td>\n",
       "      <td>...</td>\n",
       "      <td>0</td>\n",
       "      <td>0</td>\n",
       "      <td>0</td>\n",
       "      <td>0</td>\n",
       "      <td>0</td>\n",
       "      <td>0</td>\n",
       "      <td>0</td>\n",
       "      <td>0</td>\n",
       "      <td>0</td>\n",
       "      <td>0</td>\n",
       "    </tr>\n",
       "    <tr>\n",
       "      <th>3</th>\n",
       "      <td>0</td>\n",
       "      <td>0</td>\n",
       "      <td>0</td>\n",
       "      <td>0</td>\n",
       "      <td>0</td>\n",
       "      <td>0</td>\n",
       "      <td>0</td>\n",
       "      <td>0</td>\n",
       "      <td>0</td>\n",
       "      <td>0</td>\n",
       "      <td>...</td>\n",
       "      <td>0</td>\n",
       "      <td>0</td>\n",
       "      <td>0</td>\n",
       "      <td>0</td>\n",
       "      <td>0</td>\n",
       "      <td>0</td>\n",
       "      <td>0</td>\n",
       "      <td>0</td>\n",
       "      <td>0</td>\n",
       "      <td>0</td>\n",
       "    </tr>\n",
       "    <tr>\n",
       "      <th>4</th>\n",
       "      <td>0</td>\n",
       "      <td>0</td>\n",
       "      <td>0</td>\n",
       "      <td>0</td>\n",
       "      <td>0</td>\n",
       "      <td>0</td>\n",
       "      <td>0</td>\n",
       "      <td>0</td>\n",
       "      <td>0</td>\n",
       "      <td>0</td>\n",
       "      <td>...</td>\n",
       "      <td>0</td>\n",
       "      <td>0</td>\n",
       "      <td>0</td>\n",
       "      <td>0</td>\n",
       "      <td>0</td>\n",
       "      <td>0</td>\n",
       "      <td>0</td>\n",
       "      <td>0</td>\n",
       "      <td>0</td>\n",
       "      <td>0</td>\n",
       "    </tr>\n",
       "  </tbody>\n",
       "</table>\n",
       "<p>5 rows × 10642 columns</p>\n",
       "</div>"
      ],
      "text/plain": [
       "   L4_C342  L4_S0009  L4_A009  L4_A020  L4_A029  L4_A039  L4_A043  L4_A045  \\\n",
       "0        0         0        0        0        0        0        0        0   \n",
       "1        0         0        0        0        0        0        0        0   \n",
       "2        0         0        0        0        0        0        0        0   \n",
       "3        0         0        0        0        0        0        0        0   \n",
       "4        0         0        0        0        0        0        0        0   \n",
       "\n",
       "   L4_A047  L4_A048  ...  L6_2_TBA04_count  L6_2_TBD22_count  \\\n",
       "0        0        0  ...                 0                 0   \n",
       "1        0        0  ...                 0                 0   \n",
       "2        0        0  ...                 0                 0   \n",
       "3        0        0  ...                 0                 0   \n",
       "4        0        0  ...                 0                 0   \n",
       "\n",
       "   L6_2_TBD23_count  L6_2_TBD24_count  L6_2_TBE24_count  L6_2_TBH23_count  \\\n",
       "0                 0                 0                 0                 0   \n",
       "1                 0                 0                 0                 0   \n",
       "2                 0                 0                 0                 0   \n",
       "3                 0                 0                 0                 0   \n",
       "4                 0                 0                 0                 0   \n",
       "\n",
       "   L6_2_TCM01_count  L6_2_TFF01_count  L6_2_TSA02_count  L6_2_TTA01_count  \n",
       "0                 0                 0                 0                 0  \n",
       "1                 0                 0                 0                 0  \n",
       "2                 0                 0                 0                 0  \n",
       "3                 0                 0                 0                 0  \n",
       "4                 0                 0                 0                 0  \n",
       "\n",
       "[5 rows x 10642 columns]"
      ]
     },
     "execution_count": 6,
     "metadata": {},
     "output_type": "execute_result"
    }
   ],
   "source": [
    "theTrainDataFrame.head()"
   ]
  },
  {
   "cell_type": "code",
   "execution_count": 7,
   "id": "4b476d96-36ce-4c2c-b73e-fe942ad44048",
   "metadata": {},
   "outputs": [
    {
     "data": {
      "text/html": [
       "<div>\n",
       "<style scoped>\n",
       "    .dataframe tbody tr th:only-of-type {\n",
       "        vertical-align: middle;\n",
       "    }\n",
       "\n",
       "    .dataframe tbody tr th {\n",
       "        vertical-align: top;\n",
       "    }\n",
       "\n",
       "    .dataframe thead th {\n",
       "        text-align: right;\n",
       "    }\n",
       "</style>\n",
       "<table border=\"1\" class=\"dataframe\">\n",
       "  <thead>\n",
       "    <tr style=\"text-align: right;\">\n",
       "      <th></th>\n",
       "      <th>class(가망없음)</th>\n",
       "      <th>class(AMA)</th>\n",
       "      <th>class(unexpected_사망)</th>\n",
       "      <th>class(expected_사망)</th>\n",
       "      <th>유지</th>\n",
       "      <th>호전</th>\n",
       "      <th>악화</th>\n",
       "    </tr>\n",
       "  </thead>\n",
       "  <tbody>\n",
       "    <tr>\n",
       "      <th>0</th>\n",
       "      <td>0</td>\n",
       "      <td>0</td>\n",
       "      <td>0</td>\n",
       "      <td>0</td>\n",
       "      <td>0</td>\n",
       "      <td>1</td>\n",
       "      <td>0</td>\n",
       "    </tr>\n",
       "    <tr>\n",
       "      <th>1</th>\n",
       "      <td>0</td>\n",
       "      <td>0</td>\n",
       "      <td>0</td>\n",
       "      <td>0</td>\n",
       "      <td>0</td>\n",
       "      <td>1</td>\n",
       "      <td>0</td>\n",
       "    </tr>\n",
       "    <tr>\n",
       "      <th>2</th>\n",
       "      <td>0</td>\n",
       "      <td>0</td>\n",
       "      <td>0</td>\n",
       "      <td>0</td>\n",
       "      <td>0</td>\n",
       "      <td>1</td>\n",
       "      <td>0</td>\n",
       "    </tr>\n",
       "    <tr>\n",
       "      <th>3</th>\n",
       "      <td>0</td>\n",
       "      <td>0</td>\n",
       "      <td>0</td>\n",
       "      <td>0</td>\n",
       "      <td>0</td>\n",
       "      <td>1</td>\n",
       "      <td>0</td>\n",
       "    </tr>\n",
       "    <tr>\n",
       "      <th>4</th>\n",
       "      <td>0</td>\n",
       "      <td>0</td>\n",
       "      <td>0</td>\n",
       "      <td>0</td>\n",
       "      <td>0</td>\n",
       "      <td>1</td>\n",
       "      <td>0</td>\n",
       "    </tr>\n",
       "  </tbody>\n",
       "</table>\n",
       "</div>"
      ],
      "text/plain": [
       "   class(가망없음)  class(AMA)  class(unexpected_사망)  class(expected_사망)  유지  호전  \\\n",
       "0            0           0                     0                   0   0   1   \n",
       "1            0           0                     0                   0   0   1   \n",
       "2            0           0                     0                   0   0   1   \n",
       "3            0           0                     0                   0   0   1   \n",
       "4            0           0                     0                   0   0   1   \n",
       "\n",
       "   악화  \n",
       "0   0  \n",
       "1   0  \n",
       "2   0  \n",
       "3   0  \n",
       "4   0  "
      ]
     },
     "execution_count": 7,
     "metadata": {},
     "output_type": "execute_result"
    }
   ],
   "source": [
    "theValidDataFrame.head()"
   ]
  },
  {
   "cell_type": "code",
   "execution_count": 8,
   "id": "d9703cc5-63d2-4191-af76-8f1865cbc091",
   "metadata": {},
   "outputs": [],
   "source": [
    "x = theTrainDataFrame.to_numpy()"
   ]
  },
  {
   "cell_type": "code",
   "execution_count": 9,
   "id": "1477b5d2-81ed-400c-889b-720a7e55ca0b",
   "metadata": {},
   "outputs": [],
   "source": [
    "y = theValidDataFrame.to_numpy()"
   ]
  },
  {
   "cell_type": "code",
   "execution_count": 18,
   "id": "486565cd-3ecf-4b1c-9f96-a48fb44a6851",
   "metadata": {},
   "outputs": [],
   "source": [
    "scaled_x = x / x.max()"
   ]
  },
  {
   "cell_type": "code",
   "execution_count": 11,
   "id": "89985996-c2f1-4027-b5a6-40ac17172b65",
   "metadata": {},
   "outputs": [],
   "source": [
    "from sklearn.model_selection import train_test_split\n"
   ]
  },
  {
   "cell_type": "code",
   "execution_count": 19,
   "id": "aa65f5da-c500-43ba-8f7c-18f3fadcb1d9",
   "metadata": {},
   "outputs": [],
   "source": [
    "theShuffle = True\n",
    "X_train, X_test, y_train, y_test = train_test_split(scaled_x, y, \n",
    "                                                    test_size=0.4, \n",
    "                                                    shuffle=theShuffle, \n",
    "                                                    random_state=1004)"
   ]
  },
  {
   "cell_type": "code",
   "execution_count": 20,
   "id": "c5d172ef-ee3e-42e5-a2ec-7e95d7fe1159",
   "metadata": {},
   "outputs": [
    {
     "data": {
      "text/plain": [
       "(13152, 10642)"
      ]
     },
     "execution_count": 20,
     "metadata": {},
     "output_type": "execute_result"
    }
   ],
   "source": [
    "X_train.shape"
   ]
  },
  {
   "cell_type": "code",
   "execution_count": 21,
   "id": "253158e6-3f46-4ce0-95a8-b81c6149d9ff",
   "metadata": {},
   "outputs": [
    {
     "data": {
      "text/plain": [
       "(8768, 10642)"
      ]
     },
     "execution_count": 21,
     "metadata": {},
     "output_type": "execute_result"
    }
   ],
   "source": [
    "X_test.shape"
   ]
  },
  {
   "cell_type": "code",
   "execution_count": 23,
   "id": "967d158f-87f9-4d67-adbc-a4a4038fb044",
   "metadata": {},
   "outputs": [
    {
     "data": {
      "text/plain": [
       "(13152, 7)"
      ]
     },
     "execution_count": 23,
     "metadata": {},
     "output_type": "execute_result"
    }
   ],
   "source": [
    "y_train.shape"
   ]
  },
  {
   "cell_type": "code",
   "execution_count": 24,
   "id": "46595f4c-7f0e-4ab2-ad66-f165c560f8da",
   "metadata": {},
   "outputs": [
    {
     "data": {
      "text/plain": [
       "(8768, 7)"
      ]
     },
     "execution_count": 24,
     "metadata": {},
     "output_type": "execute_result"
    }
   ],
   "source": [
    "y_test.shape"
   ]
  },
  {
   "cell_type": "code",
   "execution_count": 25,
   "id": "e7f1c696-915c-4b2c-b384-f492b51fe6c2",
   "metadata": {},
   "outputs": [
    {
     "data": {
      "text/plain": [
       "dtype('float64')"
      ]
     },
     "execution_count": 25,
     "metadata": {},
     "output_type": "execute_result"
    }
   ],
   "source": [
    "X_train.dtype"
   ]
  },
  {
   "cell_type": "code",
   "execution_count": 26,
   "id": "43fb56a4-098b-49f3-8256-a998c0d930a5",
   "metadata": {},
   "outputs": [],
   "source": [
    "from tensorflow.keras.models import Sequential\n",
    "from tensorflow.keras.layers import Dense\n"
   ]
  },
  {
   "cell_type": "code",
   "execution_count": 27,
   "id": "0eb1d798-a31c-4693-bc03-c58830fb2831",
   "metadata": {},
   "outputs": [],
   "source": [
    "model = Sequential()"
   ]
  },
  {
   "cell_type": "code",
   "execution_count": 28,
   "id": "b24b7fa9-f97b-43ac-9e93-dd8162a336e1",
   "metadata": {},
   "outputs": [
    {
     "data": {
      "text/plain": [
       "(21920, 10642)"
      ]
     },
     "execution_count": 28,
     "metadata": {},
     "output_type": "execute_result"
    }
   ],
   "source": [
    "scaled_x.shape"
   ]
  },
  {
   "cell_type": "code",
   "execution_count": 29,
   "id": "629ef35b-37b0-4001-9a10-fd6e850fd188",
   "metadata": {},
   "outputs": [
    {
     "data": {
      "text/plain": [
       "(13152, 7)"
      ]
     },
     "execution_count": 29,
     "metadata": {},
     "output_type": "execute_result"
    }
   ],
   "source": [
    "y_train.shape"
   ]
  },
  {
   "cell_type": "code",
   "execution_count": 30,
   "id": "630619c3-8608-4080-8796-6a22cce5c492",
   "metadata": {},
   "outputs": [
    {
     "name": "stderr",
     "output_type": "stream",
     "text": [
      "2022-11-07 15:55:47.997822: I tensorflow/stream_executor/platform/default/dso_loader.cc:44] Successfully opened dynamic library libcuda.so.1\n",
      "2022-11-07 15:55:48.050280: I tensorflow/stream_executor/cuda/cuda_gpu_executor.cc:981] successful NUMA node read from SysFS had negative value (-1), but there must be at least one NUMA node, so returning NUMA node zero\n",
      "2022-11-07 15:55:48.050472: I tensorflow/core/common_runtime/gpu/gpu_device.cc:1561] Found device 0 with properties: \n",
      "pciBusID: 0000:01:00.0 name: NVIDIA GeForce RTX 2080 Ti computeCapability: 7.5\n",
      "coreClock: 1.65GHz coreCount: 68 deviceMemorySize: 10.76GiB deviceMemoryBandwidth: 573.69GiB/s\n",
      "2022-11-07 15:55:48.050735: I tensorflow/stream_executor/platform/default/dso_loader.cc:44] Successfully opened dynamic library libcudart.so.10.1\n",
      "2022-11-07 15:55:48.052433: I tensorflow/stream_executor/platform/default/dso_loader.cc:44] Successfully opened dynamic library libcublas.so.10\n",
      "2022-11-07 15:55:48.054055: I tensorflow/stream_executor/platform/default/dso_loader.cc:44] Successfully opened dynamic library libcufft.so.10\n",
      "2022-11-07 15:55:48.054391: I tensorflow/stream_executor/platform/default/dso_loader.cc:44] Successfully opened dynamic library libcurand.so.10\n",
      "2022-11-07 15:55:48.056528: I tensorflow/stream_executor/platform/default/dso_loader.cc:44] Successfully opened dynamic library libcusolver.so.10\n",
      "2022-11-07 15:55:48.057567: I tensorflow/stream_executor/platform/default/dso_loader.cc:44] Successfully opened dynamic library libcusparse.so.10\n",
      "2022-11-07 15:55:48.061736: I tensorflow/stream_executor/platform/default/dso_loader.cc:44] Successfully opened dynamic library libcudnn.so.7\n",
      "2022-11-07 15:55:48.061897: I tensorflow/stream_executor/cuda/cuda_gpu_executor.cc:981] successful NUMA node read from SysFS had negative value (-1), but there must be at least one NUMA node, so returning NUMA node zero\n",
      "2022-11-07 15:55:48.062196: I tensorflow/stream_executor/cuda/cuda_gpu_executor.cc:981] successful NUMA node read from SysFS had negative value (-1), but there must be at least one NUMA node, so returning NUMA node zero\n",
      "2022-11-07 15:55:48.062371: I tensorflow/core/common_runtime/gpu/gpu_device.cc:1703] Adding visible gpu devices: 0\n",
      "2022-11-07 15:55:48.063154: I tensorflow/core/platform/cpu_feature_guard.cc:143] Your CPU supports instructions that this TensorFlow binary was not compiled to use: AVX2 FMA\n",
      "2022-11-07 15:55:48.070793: I tensorflow/core/platform/profile_utils/cpu_utils.cc:102] CPU Frequency: 3999980000 Hz\n",
      "2022-11-07 15:55:48.071344: I tensorflow/compiler/xla/service/service.cc:168] XLA service 0x7f4fac000b60 initialized for platform Host (this does not guarantee that XLA will be used). Devices:\n",
      "2022-11-07 15:55:48.071368: I tensorflow/compiler/xla/service/service.cc:176]   StreamExecutor device (0): Host, Default Version\n",
      "2022-11-07 15:55:48.135852: I tensorflow/stream_executor/cuda/cuda_gpu_executor.cc:981] successful NUMA node read from SysFS had negative value (-1), but there must be at least one NUMA node, so returning NUMA node zero\n",
      "2022-11-07 15:55:48.135993: I tensorflow/compiler/xla/service/service.cc:168] XLA service 0x80915e20 initialized for platform CUDA (this does not guarantee that XLA will be used). Devices:\n",
      "2022-11-07 15:55:48.136003: I tensorflow/compiler/xla/service/service.cc:176]   StreamExecutor device (0): NVIDIA GeForce RTX 2080 Ti, Compute Capability 7.5\n",
      "2022-11-07 15:55:48.136140: I tensorflow/stream_executor/cuda/cuda_gpu_executor.cc:981] successful NUMA node read from SysFS had negative value (-1), but there must be at least one NUMA node, so returning NUMA node zero\n",
      "2022-11-07 15:55:48.136227: I tensorflow/core/common_runtime/gpu/gpu_device.cc:1561] Found device 0 with properties: \n",
      "pciBusID: 0000:01:00.0 name: NVIDIA GeForce RTX 2080 Ti computeCapability: 7.5\n",
      "coreClock: 1.65GHz coreCount: 68 deviceMemorySize: 10.76GiB deviceMemoryBandwidth: 573.69GiB/s\n",
      "2022-11-07 15:55:48.136256: I tensorflow/stream_executor/platform/default/dso_loader.cc:44] Successfully opened dynamic library libcudart.so.10.1\n",
      "2022-11-07 15:55:48.136268: I tensorflow/stream_executor/platform/default/dso_loader.cc:44] Successfully opened dynamic library libcublas.so.10\n",
      "2022-11-07 15:55:48.136280: I tensorflow/stream_executor/platform/default/dso_loader.cc:44] Successfully opened dynamic library libcufft.so.10\n",
      "2022-11-07 15:55:48.136292: I tensorflow/stream_executor/platform/default/dso_loader.cc:44] Successfully opened dynamic library libcurand.so.10\n",
      "2022-11-07 15:55:48.136303: I tensorflow/stream_executor/platform/default/dso_loader.cc:44] Successfully opened dynamic library libcusolver.so.10\n",
      "2022-11-07 15:55:48.136314: I tensorflow/stream_executor/platform/default/dso_loader.cc:44] Successfully opened dynamic library libcusparse.so.10\n",
      "2022-11-07 15:55:48.136325: I tensorflow/stream_executor/platform/default/dso_loader.cc:44] Successfully opened dynamic library libcudnn.so.7\n",
      "2022-11-07 15:55:48.136362: I tensorflow/stream_executor/cuda/cuda_gpu_executor.cc:981] successful NUMA node read from SysFS had negative value (-1), but there must be at least one NUMA node, so returning NUMA node zero\n",
      "2022-11-07 15:55:48.136469: I tensorflow/stream_executor/cuda/cuda_gpu_executor.cc:981] successful NUMA node read from SysFS had negative value (-1), but there must be at least one NUMA node, so returning NUMA node zero\n",
      "2022-11-07 15:55:48.136543: I tensorflow/core/common_runtime/gpu/gpu_device.cc:1703] Adding visible gpu devices: 0\n",
      "2022-11-07 15:55:48.136566: I tensorflow/stream_executor/platform/default/dso_loader.cc:44] Successfully opened dynamic library libcudart.so.10.1\n",
      "2022-11-07 15:55:48.136732: I tensorflow/core/common_runtime/gpu/gpu_device.cc:1102] Device interconnect StreamExecutor with strength 1 edge matrix:\n",
      "2022-11-07 15:55:48.136740: I tensorflow/core/common_runtime/gpu/gpu_device.cc:1108]      0 \n",
      "2022-11-07 15:55:48.136745: I tensorflow/core/common_runtime/gpu/gpu_device.cc:1121] 0:   N \n",
      "2022-11-07 15:55:48.136804: I tensorflow/stream_executor/cuda/cuda_gpu_executor.cc:981] successful NUMA node read from SysFS had negative value (-1), but there must be at least one NUMA node, so returning NUMA node zero\n",
      "2022-11-07 15:55:48.136913: I tensorflow/stream_executor/cuda/cuda_gpu_executor.cc:981] successful NUMA node read from SysFS had negative value (-1), but there must be at least one NUMA node, so returning NUMA node zero\n",
      "2022-11-07 15:55:48.137005: I tensorflow/core/common_runtime/gpu/gpu_device.cc:1247] Created TensorFlow device (/job:localhost/replica:0/task:0/device:GPU:0 with 9765 MB memory) -> physical GPU (device: 0, name: NVIDIA GeForce RTX 2080 Ti, pci bus id: 0000:01:00.0, compute capability: 7.5)\n"
     ]
    }
   ],
   "source": [
    "model.add(Dense(units=512, activation='relu', input_shape=(10642,)))"
   ]
  },
  {
   "cell_type": "code",
   "execution_count": 31,
   "id": "58cc8dd1-2a16-488b-a2f2-36442d8dc506",
   "metadata": {},
   "outputs": [],
   "source": [
    "model.add(Dense(units = 512, activation='relu'))"
   ]
  },
  {
   "cell_type": "code",
   "execution_count": 32,
   "id": "190c8c65-177d-4de7-87fe-2c510c728feb",
   "metadata": {},
   "outputs": [],
   "source": [
    "model.add(Dense(units = 512, activation='relu'))"
   ]
  },
  {
   "cell_type": "code",
   "execution_count": 33,
   "id": "bacac6f1-f413-4481-8f6a-dd96680a6e04",
   "metadata": {},
   "outputs": [],
   "source": [
    "model.add(Dense(units = 512, activation='relu'))"
   ]
  },
  {
   "cell_type": "code",
   "execution_count": 34,
   "id": "09d4ebf1-8591-488e-866c-5d5c559d6ebb",
   "metadata": {},
   "outputs": [],
   "source": [
    "model.add(Dense(units = 7, activation='softmax'))"
   ]
  },
  {
   "cell_type": "code",
   "execution_count": 35,
   "id": "53dd71d3-be47-4ad5-8b40-c56922d2d006",
   "metadata": {},
   "outputs": [
    {
     "name": "stdout",
     "output_type": "stream",
     "text": [
      "Model: \"sequential\"\n",
      "_________________________________________________________________\n",
      "Layer (type)                 Output Shape              Param #   \n",
      "=================================================================\n",
      "dense (Dense)                (None, 512)               5449216   \n",
      "_________________________________________________________________\n",
      "dense_1 (Dense)              (None, 512)               262656    \n",
      "_________________________________________________________________\n",
      "dense_2 (Dense)              (None, 512)               262656    \n",
      "_________________________________________________________________\n",
      "dense_3 (Dense)              (None, 512)               262656    \n",
      "_________________________________________________________________\n",
      "dense_4 (Dense)              (None, 7)                 3591      \n",
      "=================================================================\n",
      "Total params: 6,240,775\n",
      "Trainable params: 6,240,775\n",
      "Non-trainable params: 0\n",
      "_________________________________________________________________\n"
     ]
    }
   ],
   "source": [
    "model.summary()"
   ]
  },
  {
   "cell_type": "code",
   "execution_count": 36,
   "id": "7f8183c7-8eca-419d-bfcd-a6c3a268db75",
   "metadata": {},
   "outputs": [],
   "source": [
    "model.compile(loss='categorical_crossentropy', metrics=['accuracy'])"
   ]
  },
  {
   "cell_type": "code",
   "execution_count": 37,
   "id": "7ab7f7ce-1756-4126-9fd8-df3d4ec58f25",
   "metadata": {},
   "outputs": [
    {
     "name": "stdout",
     "output_type": "stream",
     "text": [
      "Epoch 1/5\n",
      " 38/411 [=>............................] - ETA: 1s - loss: 0.5020 - accuracy: 0.9079"
     ]
    },
    {
     "name": "stderr",
     "output_type": "stream",
     "text": [
      "2022-11-07 15:56:46.817938: I tensorflow/stream_executor/platform/default/dso_loader.cc:44] Successfully opened dynamic library libcublas.so.10\n"
     ]
    },
    {
     "name": "stdout",
     "output_type": "stream",
     "text": [
      "411/411 [==============================] - 2s 4ms/step - loss: 0.3507 - accuracy: 0.9118 - val_loss: 0.2981 - val_accuracy: 0.9143\n",
      "Epoch 2/5\n",
      "411/411 [==============================] - 2s 4ms/step - loss: 0.3025 - accuracy: 0.9161 - val_loss: 0.2846 - val_accuracy: 0.9187\n",
      "Epoch 3/5\n",
      "411/411 [==============================] - 2s 4ms/step - loss: 0.2925 - accuracy: 0.9170 - val_loss: 0.2753 - val_accuracy: 0.9205\n",
      "Epoch 4/5\n",
      "411/411 [==============================] - 2s 4ms/step - loss: 0.2823 - accuracy: 0.9192 - val_loss: 0.2754 - val_accuracy: 0.9222\n",
      "Epoch 5/5\n",
      "411/411 [==============================] - 2s 4ms/step - loss: 0.2748 - accuracy: 0.9202 - val_loss: 0.2795 - val_accuracy: 0.9228\n"
     ]
    }
   ],
   "source": [
    "history = model.fit(\n",
    "    X_train, y_train, epochs=5, verbose=1, validation_data=(X_test, y_test)\n",
    ")"
   ]
  },
  {
   "cell_type": "code",
   "execution_count": 39,
   "id": "5da1a9f2-b24b-4fd6-bc4a-d9fcdc29839b",
   "metadata": {},
   "outputs": [
    {
     "name": "stdout",
     "output_type": "stream",
     "text": [
      "Epoch 1/50\n",
      "411/411 [==============================] - 2s 4ms/step - loss: 0.2676 - accuracy: 0.9218 - val_loss: 0.2743 - val_accuracy: 0.9212\n",
      "Epoch 2/50\n",
      "411/411 [==============================] - 2s 4ms/step - loss: 0.2648 - accuracy: 0.9221 - val_loss: 0.2648 - val_accuracy: 0.9228\n",
      "Epoch 3/50\n",
      "411/411 [==============================] - 2s 4ms/step - loss: 0.2625 - accuracy: 0.9217 - val_loss: 0.2767 - val_accuracy: 0.9228\n",
      "Epoch 4/50\n",
      "411/411 [==============================] - 2s 4ms/step - loss: 0.2592 - accuracy: 0.9231 - val_loss: 0.2714 - val_accuracy: 0.9226\n",
      "Epoch 5/50\n",
      "411/411 [==============================] - 2s 4ms/step - loss: 0.2572 - accuracy: 0.9223 - val_loss: 0.2839 - val_accuracy: 0.9235\n",
      "Epoch 6/50\n",
      "411/411 [==============================] - 2s 4ms/step - loss: 0.2554 - accuracy: 0.9227 - val_loss: 0.2727 - val_accuracy: 0.9239\n",
      "Epoch 7/50\n",
      "411/411 [==============================] - 2s 4ms/step - loss: 0.2573 - accuracy: 0.9224 - val_loss: 0.2933 - val_accuracy: 0.9246\n",
      "Epoch 8/50\n",
      "411/411 [==============================] - 1s 4ms/step - loss: 0.2534 - accuracy: 0.9237 - val_loss: 0.2958 - val_accuracy: 0.9219\n",
      "Epoch 9/50\n",
      "411/411 [==============================] - 2s 4ms/step - loss: 0.2549 - accuracy: 0.9232 - val_loss: 0.2820 - val_accuracy: 0.9232\n",
      "Epoch 10/50\n",
      "411/411 [==============================] - 2s 4ms/step - loss: 0.2517 - accuracy: 0.9236 - val_loss: 0.3011 - val_accuracy: 0.9230\n",
      "Epoch 11/50\n",
      "411/411 [==============================] - 2s 4ms/step - loss: 0.2538 - accuracy: 0.9234 - val_loss: 0.2809 - val_accuracy: 0.9251\n",
      "Epoch 12/50\n",
      "411/411 [==============================] - 2s 4ms/step - loss: 0.2494 - accuracy: 0.9249 - val_loss: 0.2913 - val_accuracy: 0.9248\n",
      "Epoch 13/50\n",
      "411/411 [==============================] - 1s 3ms/step - loss: 0.2537 - accuracy: 0.9234 - val_loss: 0.2681 - val_accuracy: 0.9246\n",
      "Epoch 14/50\n",
      "411/411 [==============================] - 2s 4ms/step - loss: 0.2531 - accuracy: 0.9243 - val_loss: 0.2843 - val_accuracy: 0.9247\n",
      "Epoch 15/50\n",
      "411/411 [==============================] - 2s 4ms/step - loss: 0.2567 - accuracy: 0.9243 - val_loss: 0.2863 - val_accuracy: 0.9244\n",
      "Epoch 16/50\n",
      "411/411 [==============================] - 2s 4ms/step - loss: 0.2513 - accuracy: 0.9237 - val_loss: 0.3239 - val_accuracy: 0.9243\n",
      "Epoch 17/50\n",
      "411/411 [==============================] - 2s 4ms/step - loss: 0.2530 - accuracy: 0.9243 - val_loss: 0.3207 - val_accuracy: 0.9252\n",
      "Epoch 18/50\n",
      "411/411 [==============================] - 2s 4ms/step - loss: 0.2529 - accuracy: 0.9248 - val_loss: 0.3127 - val_accuracy: 0.9238\n",
      "Epoch 19/50\n",
      "411/411 [==============================] - 2s 4ms/step - loss: 0.2503 - accuracy: 0.9250 - val_loss: 0.2904 - val_accuracy: 0.9248\n",
      "Epoch 20/50\n",
      "411/411 [==============================] - 2s 4ms/step - loss: 0.2500 - accuracy: 0.9236 - val_loss: 0.3408 - val_accuracy: 0.9244\n",
      "Epoch 21/50\n",
      "411/411 [==============================] - 2s 4ms/step - loss: 0.2534 - accuracy: 0.9247 - val_loss: 0.3418 - val_accuracy: 0.8635\n",
      "Epoch 22/50\n",
      "411/411 [==============================] - 1s 3ms/step - loss: 0.2491 - accuracy: 0.9244 - val_loss: 0.3406 - val_accuracy: 0.9255\n",
      "Epoch 23/50\n",
      "411/411 [==============================] - 2s 4ms/step - loss: 0.2506 - accuracy: 0.9251 - val_loss: 0.3166 - val_accuracy: 0.9252\n",
      "Epoch 24/50\n",
      "411/411 [==============================] - 2s 4ms/step - loss: 0.2511 - accuracy: 0.9250 - val_loss: 0.4270 - val_accuracy: 0.9242\n",
      "Epoch 25/50\n",
      "411/411 [==============================] - 2s 4ms/step - loss: 0.2606 - accuracy: 0.9242 - val_loss: 0.3233 - val_accuracy: 0.9222\n",
      "Epoch 26/50\n",
      "411/411 [==============================] - 2s 4ms/step - loss: 0.2475 - accuracy: 0.9251 - val_loss: 0.2846 - val_accuracy: 0.9251\n",
      "Epoch 27/50\n",
      "411/411 [==============================] - 2s 4ms/step - loss: 0.2535 - accuracy: 0.9250 - val_loss: 0.3276 - val_accuracy: 0.9243\n",
      "Epoch 28/50\n",
      "411/411 [==============================] - 2s 4ms/step - loss: 0.2482 - accuracy: 0.9257 - val_loss: 0.3044 - val_accuracy: 0.9247\n",
      "Epoch 29/50\n",
      "411/411 [==============================] - 2s 4ms/step - loss: 0.2492 - accuracy: 0.9240 - val_loss: 0.2976 - val_accuracy: 0.9251\n",
      "Epoch 30/50\n",
      "411/411 [==============================] - 2s 4ms/step - loss: 0.2512 - accuracy: 0.9251 - val_loss: 0.3141 - val_accuracy: 0.9252\n",
      "Epoch 31/50\n",
      "411/411 [==============================] - 2s 4ms/step - loss: 0.2496 - accuracy: 0.9256 - val_loss: 0.3422 - val_accuracy: 0.9226\n",
      "Epoch 32/50\n",
      "411/411 [==============================] - 1s 3ms/step - loss: 0.2564 - accuracy: 0.9256 - val_loss: 0.3156 - val_accuracy: 0.9240\n",
      "Epoch 33/50\n",
      "411/411 [==============================] - 2s 4ms/step - loss: 0.2493 - accuracy: 0.9250 - val_loss: 0.3180 - val_accuracy: 0.9250\n",
      "Epoch 34/50\n",
      "411/411 [==============================] - 2s 4ms/step - loss: 0.2481 - accuracy: 0.9256 - val_loss: 0.3169 - val_accuracy: 0.9251\n",
      "Epoch 35/50\n",
      "411/411 [==============================] - 2s 4ms/step - loss: 0.2506 - accuracy: 0.9247 - val_loss: 0.4346 - val_accuracy: 0.9248\n",
      "Epoch 36/50\n",
      "411/411 [==============================] - 2s 4ms/step - loss: 0.2492 - accuracy: 0.9252 - val_loss: 0.3610 - val_accuracy: 0.9244\n",
      "Epoch 37/50\n",
      "411/411 [==============================] - 2s 4ms/step - loss: 0.2456 - accuracy: 0.9246 - val_loss: 0.3581 - val_accuracy: 0.9245\n",
      "Epoch 38/50\n",
      "411/411 [==============================] - 2s 4ms/step - loss: 0.2522 - accuracy: 0.9246 - val_loss: 0.3599 - val_accuracy: 0.9242\n",
      "Epoch 39/50\n",
      "411/411 [==============================] - 2s 4ms/step - loss: 0.2548 - accuracy: 0.9256 - val_loss: 0.3856 - val_accuracy: 0.9246\n",
      "Epoch 40/50\n",
      "411/411 [==============================] - 2s 4ms/step - loss: 0.2489 - accuracy: 0.9262 - val_loss: 0.3751 - val_accuracy: 0.9250\n",
      "Epoch 41/50\n",
      "411/411 [==============================] - 2s 4ms/step - loss: 0.2556 - accuracy: 0.9249 - val_loss: 0.3906 - val_accuracy: 0.9248\n",
      "Epoch 42/50\n",
      "411/411 [==============================] - 1s 3ms/step - loss: 0.2494 - accuracy: 0.9266 - val_loss: 0.3494 - val_accuracy: 0.9252\n",
      "Epoch 43/50\n",
      "411/411 [==============================] - 2s 4ms/step - loss: 0.2475 - accuracy: 0.9260 - val_loss: 0.4002 - val_accuracy: 0.9244\n",
      "Epoch 44/50\n",
      "411/411 [==============================] - 2s 4ms/step - loss: 0.2567 - accuracy: 0.9261 - val_loss: 0.3942 - val_accuracy: 0.9229\n",
      "Epoch 45/50\n",
      "411/411 [==============================] - 2s 4ms/step - loss: 0.2436 - accuracy: 0.9256 - val_loss: 0.4147 - val_accuracy: 0.9232\n",
      "Epoch 46/50\n",
      "411/411 [==============================] - 2s 4ms/step - loss: 0.2512 - accuracy: 0.9259 - val_loss: 0.4207 - val_accuracy: 0.9238\n",
      "Epoch 47/50\n",
      "411/411 [==============================] - 2s 4ms/step - loss: 0.2496 - accuracy: 0.9264 - val_loss: 0.3471 - val_accuracy: 0.9223\n",
      "Epoch 48/50\n",
      "411/411 [==============================] - 2s 4ms/step - loss: 0.2508 - accuracy: 0.9247 - val_loss: 0.3480 - val_accuracy: 0.9247\n",
      "Epoch 49/50\n",
      "411/411 [==============================] - 2s 4ms/step - loss: 0.2546 - accuracy: 0.9254 - val_loss: 0.3414 - val_accuracy: 0.9254\n",
      "Epoch 50/50\n",
      "411/411 [==============================] - 2s 4ms/step - loss: 0.2461 - accuracy: 0.9261 - val_loss: 0.4475 - val_accuracy: 0.9269\n"
     ]
    }
   ],
   "source": [
    "history = model.fit(\n",
    "    X_train, y_train, epochs=50, verbose=1, validation_data=(X_test, y_test)\n",
    ")"
   ]
  },
  {
   "cell_type": "code",
   "execution_count": null,
   "id": "8aa054d2-cb24-4958-83ff-826e374831d2",
   "metadata": {},
   "outputs": [],
   "source": []
  }
 ],
 "metadata": {
  "kernelspec": {
   "display_name": "Python 3 (ipykernel)",
   "language": "python",
   "name": "python3"
  },
  "language_info": {
   "codemirror_mode": {
    "name": "ipython",
    "version": 3
   },
   "file_extension": ".py",
   "mimetype": "text/x-python",
   "name": "python",
   "nbconvert_exporter": "python",
   "pygments_lexer": "ipython3",
   "version": "3.8.10"
  }
 },
 "nbformat": 4,
 "nbformat_minor": 5
}
