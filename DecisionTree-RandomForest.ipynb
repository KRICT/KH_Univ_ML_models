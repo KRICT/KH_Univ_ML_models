{
 "cells": [
  {
   "cell_type": "code",
   "execution_count": 1,
   "id": "6209ef1d-780c-4217-b790-fb3d60964f89",
   "metadata": {},
   "outputs": [],
   "source": [
    "import os\n",
    "import pandas as pd\n",
    "import numpy as np"
   ]
  },
  {
   "cell_type": "code",
   "execution_count": 2,
   "id": "3e09c210-7364-4779-90be-2fe08a058bdb",
   "metadata": {},
   "outputs": [
    {
     "name": "stdout",
     "output_type": "stream",
     "text": [
      "/home/ymkang/Documents/kh.univ\n"
     ]
    }
   ],
   "source": [
    "os.chdir('/home/ymkang/Documents/kh.univ')\n",
    "print(os.getcwd())"
   ]
  },
  {
   "cell_type": "code",
   "execution_count": 3,
   "id": "235855f7-87d0-4910-b69e-de7a8d614cee",
   "metadata": {},
   "outputs": [],
   "source": [
    "theTrainDataFile = 'x_train_all.csv'\n",
    "theValidDataFile = 'y_train_all_for_logistic.csv'"
   ]
  },
  {
   "cell_type": "code",
   "execution_count": 4,
   "id": "d512604b-1047-4637-b53c-69a15b7706e8",
   "metadata": {},
   "outputs": [],
   "source": [
    "theTrainDataFrame = pd.read_csv(theTrainDataFile)"
   ]
  },
  {
   "cell_type": "code",
   "execution_count": 5,
   "id": "4908cb37-cd43-4881-9c67-8ec4c9ad41ad",
   "metadata": {},
   "outputs": [],
   "source": [
    "theValidDataFrame = pd.read_csv(theValidDataFile)"
   ]
  },
  {
   "cell_type": "code",
   "execution_count": 6,
   "id": "9fab47a8-c06d-446b-9bdb-2bbcb564836b",
   "metadata": {},
   "outputs": [],
   "source": [
    "x = theTrainDataFrame.to_numpy()"
   ]
  },
  {
   "cell_type": "code",
   "execution_count": 7,
   "id": "0e5e7bf4-fe8b-4284-8b24-a9ac032ca0a8",
   "metadata": {},
   "outputs": [],
   "source": [
    "y = theValidDataFrame.to_numpy()"
   ]
  },
  {
   "cell_type": "code",
   "execution_count": 11,
   "id": "a854f97f-ff15-4d8a-8581-0cdb15b1d486",
   "metadata": {},
   "outputs": [
    {
     "data": {
      "text/plain": [
       "array([0, 0, 0, ..., 0, 0, 0])"
      ]
     },
     "execution_count": 11,
     "metadata": {},
     "output_type": "execute_result"
    }
   ],
   "source": [
    "y_t = np.transpose(y)[0]\n",
    "y_t"
   ]
  },
  {
   "cell_type": "code",
   "execution_count": 12,
   "id": "4069b631-57e9-4e9b-8223-858145c61564",
   "metadata": {},
   "outputs": [],
   "source": [
    "from sklearn.model_selection import train_test_split\n"
   ]
  },
  {
   "cell_type": "code",
   "execution_count": 13,
   "id": "dffcd5aa-5c75-44ce-bfb8-f0614a230b88",
   "metadata": {},
   "outputs": [],
   "source": [
    "theShuffle = True\n",
    "X_train, X_test, y_train, y_test = train_test_split(x, y_t, \n",
    "                                                    test_size=0.4, \n",
    "                                                    shuffle=theShuffle, \n",
    "                                                    random_state=1004)"
   ]
  },
  {
   "cell_type": "code",
   "execution_count": 14,
   "id": "55e85d7a-2b06-47d2-bedf-e1d2db886e9b",
   "metadata": {},
   "outputs": [
    {
     "data": {
      "text/plain": [
       "(13152, 10642)"
      ]
     },
     "execution_count": 14,
     "metadata": {},
     "output_type": "execute_result"
    }
   ],
   "source": [
    "X_train.shape"
   ]
  },
  {
   "cell_type": "code",
   "execution_count": 15,
   "id": "fe33ada3-5b3f-42e0-843b-4b01dfd054bc",
   "metadata": {},
   "outputs": [
    {
     "data": {
      "text/plain": [
       "(13152,)"
      ]
     },
     "execution_count": 15,
     "metadata": {},
     "output_type": "execute_result"
    }
   ],
   "source": [
    "y_train.shape"
   ]
  },
  {
   "cell_type": "code",
   "execution_count": 16,
   "id": "405ce2c9-20b0-47ed-9d58-d10f59445d2b",
   "metadata": {},
   "outputs": [
    {
     "data": {
      "text/plain": [
       "(8768, 10642)"
      ]
     },
     "execution_count": 16,
     "metadata": {},
     "output_type": "execute_result"
    }
   ],
   "source": [
    "X_test.shape"
   ]
  },
  {
   "cell_type": "code",
   "execution_count": 17,
   "id": "ce8fbf17-ab67-4971-a5e0-8c2b4e098164",
   "metadata": {},
   "outputs": [
    {
     "data": {
      "text/plain": [
       "(8768,)"
      ]
     },
     "execution_count": 17,
     "metadata": {},
     "output_type": "execute_result"
    }
   ],
   "source": [
    "y_test.shape"
   ]
  },
  {
   "cell_type": "code",
   "execution_count": 34,
   "id": "29b064b2-6bb4-4412-895b-cc85518d51c0",
   "metadata": {},
   "outputs": [],
   "source": [
    "from sklearn.ensemble import RandomForestClassifier\n",
    "from sklearn.metrics import accuracy_score"
   ]
  },
  {
   "cell_type": "code",
   "execution_count": 54,
   "id": "b6a08c78-e17a-48a3-acb4-c360cc0b422b",
   "metadata": {},
   "outputs": [],
   "source": [
    "theRandomForestModel = RandomForestClassifier(\n",
    "    n_estimators=10,\n",
    "    max_depth=5,\n",
    "    random_state=0 )\n"
   ]
  },
  {
   "cell_type": "code",
   "execution_count": 55,
   "id": "34844b68-f16b-4fa7-891c-754224a53c40",
   "metadata": {},
   "outputs": [
    {
     "data": {
      "text/html": [
       "<style>#sk-container-id-10 {color: black;background-color: white;}#sk-container-id-10 pre{padding: 0;}#sk-container-id-10 div.sk-toggleable {background-color: white;}#sk-container-id-10 label.sk-toggleable__label {cursor: pointer;display: block;width: 100%;margin-bottom: 0;padding: 0.3em;box-sizing: border-box;text-align: center;}#sk-container-id-10 label.sk-toggleable__label-arrow:before {content: \"▸\";float: left;margin-right: 0.25em;color: #696969;}#sk-container-id-10 label.sk-toggleable__label-arrow:hover:before {color: black;}#sk-container-id-10 div.sk-estimator:hover label.sk-toggleable__label-arrow:before {color: black;}#sk-container-id-10 div.sk-toggleable__content {max-height: 0;max-width: 0;overflow: hidden;text-align: left;background-color: #f0f8ff;}#sk-container-id-10 div.sk-toggleable__content pre {margin: 0.2em;color: black;border-radius: 0.25em;background-color: #f0f8ff;}#sk-container-id-10 input.sk-toggleable__control:checked~div.sk-toggleable__content {max-height: 200px;max-width: 100%;overflow: auto;}#sk-container-id-10 input.sk-toggleable__control:checked~label.sk-toggleable__label-arrow:before {content: \"▾\";}#sk-container-id-10 div.sk-estimator input.sk-toggleable__control:checked~label.sk-toggleable__label {background-color: #d4ebff;}#sk-container-id-10 div.sk-label input.sk-toggleable__control:checked~label.sk-toggleable__label {background-color: #d4ebff;}#sk-container-id-10 input.sk-hidden--visually {border: 0;clip: rect(1px 1px 1px 1px);clip: rect(1px, 1px, 1px, 1px);height: 1px;margin: -1px;overflow: hidden;padding: 0;position: absolute;width: 1px;}#sk-container-id-10 div.sk-estimator {font-family: monospace;background-color: #f0f8ff;border: 1px dotted black;border-radius: 0.25em;box-sizing: border-box;margin-bottom: 0.5em;}#sk-container-id-10 div.sk-estimator:hover {background-color: #d4ebff;}#sk-container-id-10 div.sk-parallel-item::after {content: \"\";width: 100%;border-bottom: 1px solid gray;flex-grow: 1;}#sk-container-id-10 div.sk-label:hover label.sk-toggleable__label {background-color: #d4ebff;}#sk-container-id-10 div.sk-serial::before {content: \"\";position: absolute;border-left: 1px solid gray;box-sizing: border-box;top: 0;bottom: 0;left: 50%;z-index: 0;}#sk-container-id-10 div.sk-serial {display: flex;flex-direction: column;align-items: center;background-color: white;padding-right: 0.2em;padding-left: 0.2em;position: relative;}#sk-container-id-10 div.sk-item {position: relative;z-index: 1;}#sk-container-id-10 div.sk-parallel {display: flex;align-items: stretch;justify-content: center;background-color: white;position: relative;}#sk-container-id-10 div.sk-item::before, #sk-container-id-10 div.sk-parallel-item::before {content: \"\";position: absolute;border-left: 1px solid gray;box-sizing: border-box;top: 0;bottom: 0;left: 50%;z-index: -1;}#sk-container-id-10 div.sk-parallel-item {display: flex;flex-direction: column;z-index: 1;position: relative;background-color: white;}#sk-container-id-10 div.sk-parallel-item:first-child::after {align-self: flex-end;width: 50%;}#sk-container-id-10 div.sk-parallel-item:last-child::after {align-self: flex-start;width: 50%;}#sk-container-id-10 div.sk-parallel-item:only-child::after {width: 0;}#sk-container-id-10 div.sk-dashed-wrapped {border: 1px dashed gray;margin: 0 0.4em 0.5em 0.4em;box-sizing: border-box;padding-bottom: 0.4em;background-color: white;}#sk-container-id-10 div.sk-label label {font-family: monospace;font-weight: bold;display: inline-block;line-height: 1.2em;}#sk-container-id-10 div.sk-label-container {text-align: center;}#sk-container-id-10 div.sk-container {/* jupyter's `normalize.less` sets `[hidden] { display: none; }` but bootstrap.min.css set `[hidden] { display: none !important; }` so we also need the `!important` here to be able to override the default hidden behavior on the sphinx rendered scikit-learn.org. See: https://github.com/scikit-learn/scikit-learn/issues/21755 */display: inline-block !important;position: relative;}#sk-container-id-10 div.sk-text-repr-fallback {display: none;}</style><div id=\"sk-container-id-10\" class=\"sk-top-container\"><div class=\"sk-text-repr-fallback\"><pre>RandomForestClassifier(max_depth=5, n_estimators=10, random_state=0)</pre><b>In a Jupyter environment, please rerun this cell to show the HTML representation or trust the notebook. <br />On GitHub, the HTML representation is unable to render, please try loading this page with nbviewer.org.</b></div><div class=\"sk-container\" hidden><div class=\"sk-item\"><div class=\"sk-estimator sk-toggleable\"><input class=\"sk-toggleable__control sk-hidden--visually\" id=\"sk-estimator-id-10\" type=\"checkbox\" checked><label for=\"sk-estimator-id-10\" class=\"sk-toggleable__label sk-toggleable__label-arrow\">RandomForestClassifier</label><div class=\"sk-toggleable__content\"><pre>RandomForestClassifier(max_depth=5, n_estimators=10, random_state=0)</pre></div></div></div></div></div>"
      ],
      "text/plain": [
       "RandomForestClassifier(max_depth=5, n_estimators=10, random_state=0)"
      ]
     },
     "execution_count": 55,
     "metadata": {},
     "output_type": "execute_result"
    }
   ],
   "source": [
    "theRandomForestModel.fit(X_train, y_train)"
   ]
  },
  {
   "cell_type": "code",
   "execution_count": 56,
   "id": "338b8693-80e6-400b-9588-05e7af2968a9",
   "metadata": {},
   "outputs": [
    {
     "name": "stdout",
     "output_type": "stream",
     "text": [
      "Accuracy: 0.9145\n"
     ]
    }
   ],
   "source": [
    "pred_train = theRandomForestModel.predict(X_test)\n",
    "print('Accuracy: %.4f' % accuracy_score(y_test, pred_train))\n"
   ]
  },
  {
   "cell_type": "code",
   "execution_count": 53,
   "id": "91b96202-1836-4114-8ee9-23cf732bd208",
   "metadata": {},
   "outputs": [
    {
     "name": "stdout",
     "output_type": "stream",
     "text": [
      "Accuracy: 0.9145\n"
     ]
    }
   ],
   "source": [
    "# Max depth = 5, the number of estimators = 20\n",
    "theRandomForestModel_d5_e20 = RandomForestClassifier(\n",
    "    n_estimators=20,\n",
    "    max_depth=5,\n",
    "    random_state=0 )\n",
    "\n",
    "theRandomForestModel_d5_e20.fit(X_train, y_train)\n",
    "\n",
    "pred_train_d5_e20 = theRandomForestModel_d5_e20.predict(X_test)\n",
    "print('Accuracy: %.4f' % accuracy_score(y_test, pred_train_d5_e20))"
   ]
  },
  {
   "cell_type": "code",
   "execution_count": 58,
   "id": "68d4f177-99d4-4282-9ce7-5357f003f8a3",
   "metadata": {},
   "outputs": [
    {
     "name": "stdout",
     "output_type": "stream",
     "text": [
      "Accuracy: 0.9143\n"
     ]
    }
   ],
   "source": [
    "# Max depth = 5, the number of estimators = 100\n",
    "theRandomForestModel_d5_e100 = RandomForestClassifier(\n",
    "    n_estimators=100,\n",
    "    max_depth=5,\n",
    "    random_state=0 )\n",
    "\n",
    "theRandomForestModel_d5_e100.fit(X_train, y_train)\n",
    "\n",
    "pred_train_d5_e100 = theRandomForestModel_d5_e100.predict(X_test)\n",
    "print('Accuracy: %.4f' % accuracy_score(y_test, pred_train_d5_e100))"
   ]
  },
  {
   "cell_type": "code",
   "execution_count": 59,
   "id": "b4359368-3458-4c79-95c6-7e21483070c8",
   "metadata": {},
   "outputs": [
    {
     "name": "stdout",
     "output_type": "stream",
     "text": [
      "Accuracy: 0.9163\n"
     ]
    }
   ],
   "source": [
    "# Max depth = 10, the number of estimators = 100\n",
    "theRandomForestModel_d10_e100 = RandomForestClassifier(\n",
    "    n_estimators=100,\n",
    "    max_depth=10,\n",
    "    random_state=0 )\n",
    "\n",
    "theRandomForestModel_d10_e100.fit(X_train, y_train)\n",
    "\n",
    "pred_train_d10_e100 = theRandomForestModel_d10_e100.predict(X_test)\n",
    "print('Accuracy: %.4f' % accuracy_score(y_test, pred_train_d10_e100))"
   ]
  }
 ],
 "metadata": {
  "kernelspec": {
   "display_name": "Python 3 (ipykernel)",
   "language": "python",
   "name": "python3"
  },
  "language_info": {
   "codemirror_mode": {
    "name": "ipython",
    "version": 3
   },
   "file_extension": ".py",
   "mimetype": "text/x-python",
   "name": "python",
   "nbconvert_exporter": "python",
   "pygments_lexer": "ipython3",
   "version": "3.8.10"
  }
 },
 "nbformat": 4,
 "nbformat_minor": 5
}
